{
 "cells": [
  {
   "cell_type": "code",
   "id": "initial_id",
   "metadata": {
    "collapsed": true,
    "ExecuteTime": {
     "end_time": "2025-06-16T21:33:57.650693Z",
     "start_time": "2025-06-16T21:33:50.831361Z"
    }
   },
   "source": [
    "!pip install minsearch\n",
    "\n"
   ],
   "outputs": [
    {
     "name": "stdout",
     "output_type": "stream",
     "text": [
      "Collecting minsearch\r\n",
      "  Downloading minsearch-0.0.2-py3-none-any.whl.metadata (3.5 kB)\r\n",
      "Collecting pandas (from minsearch)\r\n",
      "  Using cached pandas-2.3.0-cp313-cp313-macosx_11_0_arm64.whl.metadata (91 kB)\r\n",
      "Collecting scikit-learn (from minsearch)\r\n",
      "  Using cached scikit_learn-1.7.0-cp313-cp313-macosx_12_0_arm64.whl.metadata (31 kB)\r\n",
      "Collecting numpy>=1.26.0 (from pandas->minsearch)\r\n",
      "  Using cached numpy-2.3.0-cp313-cp313-macosx_14_0_arm64.whl.metadata (62 kB)\r\n",
      "Requirement already satisfied: python-dateutil>=2.8.2 in /Users/eduacapel/PycharmProjects/LLM-Zoomcamp/.venv/lib/python3.13/site-packages (from pandas->minsearch) (2.9.0.post0)\r\n",
      "Collecting pytz>=2020.1 (from pandas->minsearch)\r\n",
      "  Using cached pytz-2025.2-py2.py3-none-any.whl.metadata (22 kB)\r\n",
      "Collecting tzdata>=2022.7 (from pandas->minsearch)\r\n",
      "  Using cached tzdata-2025.2-py2.py3-none-any.whl.metadata (1.4 kB)\r\n",
      "Collecting scipy>=1.8.0 (from scikit-learn->minsearch)\r\n",
      "  Using cached scipy-1.15.3-cp313-cp313-macosx_14_0_arm64.whl.metadata (61 kB)\r\n",
      "Collecting joblib>=1.2.0 (from scikit-learn->minsearch)\r\n",
      "  Using cached joblib-1.5.1-py3-none-any.whl.metadata (5.6 kB)\r\n",
      "Collecting threadpoolctl>=3.1.0 (from scikit-learn->minsearch)\r\n",
      "  Using cached threadpoolctl-3.6.0-py3-none-any.whl.metadata (13 kB)\r\n",
      "Requirement already satisfied: six>=1.5 in /Users/eduacapel/PycharmProjects/LLM-Zoomcamp/.venv/lib/python3.13/site-packages (from python-dateutil>=2.8.2->pandas->minsearch) (1.17.0)\r\n",
      "Downloading minsearch-0.0.2-py3-none-any.whl (4.1 kB)\r\n",
      "Using cached pandas-2.3.0-cp313-cp313-macosx_11_0_arm64.whl (10.7 MB)\r\n",
      "Using cached scikit_learn-1.7.0-cp313-cp313-macosx_12_0_arm64.whl (10.6 MB)\r\n",
      "Using cached joblib-1.5.1-py3-none-any.whl (307 kB)\r\n",
      "Using cached numpy-2.3.0-cp313-cp313-macosx_14_0_arm64.whl (5.1 MB)\r\n",
      "Using cached pytz-2025.2-py2.py3-none-any.whl (509 kB)\r\n",
      "Using cached scipy-1.15.3-cp313-cp313-macosx_14_0_arm64.whl (22.4 MB)\r\n",
      "Using cached threadpoolctl-3.6.0-py3-none-any.whl (18 kB)\r\n",
      "Using cached tzdata-2025.2-py2.py3-none-any.whl (347 kB)\r\n",
      "Installing collected packages: pytz, tzdata, threadpoolctl, numpy, joblib, scipy, pandas, scikit-learn, minsearch\r\n",
      "Successfully installed joblib-1.5.1 minsearch-0.0.2 numpy-2.3.0 pandas-2.3.0 pytz-2025.2 scikit-learn-1.7.0 scipy-1.15.3 threadpoolctl-3.6.0 tzdata-2025.2\r\n",
      "\r\n",
      "\u001B[1m[\u001B[0m\u001B[34;49mnotice\u001B[0m\u001B[1;39;49m]\u001B[0m\u001B[39;49m A new release of pip is available: \u001B[0m\u001B[31;49m25.0.1\u001B[0m\u001B[39;49m -> \u001B[0m\u001B[32;49m25.1.1\u001B[0m\r\n",
      "\u001B[1m[\u001B[0m\u001B[34;49mnotice\u001B[0m\u001B[1;39;49m]\u001B[0m\u001B[39;49m To update, run: \u001B[0m\u001B[32;49mpip install --upgrade pip\u001B[0m\r\n"
     ]
    }
   ],
   "execution_count": 1
  },
  {
   "metadata": {
    "ExecuteTime": {
     "end_time": "2025-06-17T18:50:24.804077Z",
     "start_time": "2025-06-17T18:50:23.379250Z"
    }
   },
   "cell_type": "code",
   "source": "import minsearch\n",
   "id": "c06bc3b0790aa973",
   "outputs": [],
   "execution_count": 1
  },
  {
   "metadata": {
    "ExecuteTime": {
     "end_time": "2025-06-17T18:50:24.952283Z",
     "start_time": "2025-06-17T18:50:24.949016Z"
    }
   },
   "cell_type": "code",
   "source": [
    "import json\n",
    "with open('documents.json', 'rt') as f_in:\n",
    "    docs_raw = json.load(f_in)"
   ],
   "id": "d63f9b8fa9d9fe5",
   "outputs": [],
   "execution_count": 2
  },
  {
   "metadata": {
    "ExecuteTime": {
     "end_time": "2025-06-17T18:50:33.679561Z",
     "start_time": "2025-06-17T18:50:33.676459Z"
    }
   },
   "cell_type": "code",
   "source": [
    "documents = []\n",
    "\n",
    "for course_dict in docs_raw:\n",
    "    for doc in course_dict['documents']:\n",
    "        doc['course'] = course_dict['course']\n",
    "        documents.append(doc)"
   ],
   "id": "2d09eba664c3bf54",
   "outputs": [],
   "execution_count": 3
  },
  {
   "metadata": {
    "ExecuteTime": {
     "end_time": "2025-06-17T18:50:35.191247Z",
     "start_time": "2025-06-17T18:50:35.186461Z"
    }
   },
   "cell_type": "code",
   "source": "documents[0]",
   "id": "17afc9964c999d73",
   "outputs": [
    {
     "data": {
      "text/plain": [
       "{'text': \"The purpose of this document is to capture frequently asked technical questions\\nThe exact day and hour of the course will be 15th Jan 2024 at 17h00. The course will start with the first  “Office Hours'' live.1\\nSubscribe to course public Google Calendar (it works from Desktop only).\\nRegister before the course starts using this link.\\nJoin the course Telegram channel with announcements.\\nDon’t forget to register in DataTalks.Club's Slack and join the channel.\",\n",
       " 'section': 'General course-related questions',\n",
       " 'question': 'Course - When will the course start?',\n",
       " 'course': 'data-engineering-zoomcamp'}"
      ]
     },
     "execution_count": 4,
     "metadata": {},
     "output_type": "execute_result"
    }
   ],
   "execution_count": 4
  },
  {
   "metadata": {
    "ExecuteTime": {
     "end_time": "2025-06-17T18:50:37.369846Z",
     "start_time": "2025-06-17T18:50:37.367380Z"
    }
   },
   "cell_type": "code",
   "source": [
    "index = minsearch.Index(\n",
    "    text_fields=[\"question\", \"text\", \"section\"],\n",
    "    keyword_fields=[\"course\"]\n",
    ")\n",
    "\n"
   ],
   "id": "1ca3f15f5cdb315a",
   "outputs": [],
   "execution_count": 5
  },
  {
   "metadata": {
    "ExecuteTime": {
     "end_time": "2025-06-17T18:50:42.646631Z",
     "start_time": "2025-06-17T18:50:42.644230Z"
    }
   },
   "cell_type": "code",
   "source": "q = 'the course already started, can i still enroll?'",
   "id": "43e7fced3fd738cf",
   "outputs": [],
   "execution_count": 6
  },
  {
   "metadata": {
    "ExecuteTime": {
     "end_time": "2025-06-17T18:50:43.672115Z",
     "start_time": "2025-06-17T18:50:43.627566Z"
    }
   },
   "cell_type": "code",
   "source": "index.fit(documents)",
   "id": "48af78709d122f42",
   "outputs": [
    {
     "data": {
      "text/plain": [
       "<minsearch.minsearch.Index at 0x11685f620>"
      ]
     },
     "execution_count": 7,
     "metadata": {},
     "output_type": "execute_result"
    }
   ],
   "execution_count": 7
  },
  {
   "metadata": {
    "ExecuteTime": {
     "end_time": "2025-06-17T18:50:49.066286Z",
     "start_time": "2025-06-17T18:50:49.059267Z"
    }
   },
   "cell_type": "code",
   "source": [
    "boost = {'question': 3.0, 'section': 0.5}\n",
    "\n",
    "index.search(\n",
    "    query= q,\n",
    "    boost_dict = boost,\n",
    "    num_results=5\n",
    ")"
   ],
   "id": "ee455fd85145f1b3",
   "outputs": [
    {
     "data": {
      "text/plain": [
       "[{'text': 'Yes, you can. You won’t be able to submit some of the homeworks, but you can still take part in the course.\\nIn order to get a certificate, you need to submit 2 out of 3 course projects and review 3 peers’ Projects by the deadline. It means that if you join the course at the end of November and manage to work on two projects, you will still be eligible for a certificate.',\n",
       "  'section': 'General course-related questions',\n",
       "  'question': 'The course has already started. Can I still join it?',\n",
       "  'course': 'machine-learning-zoomcamp'},\n",
       " {'text': \"Yes, even if you don't register, you're still eligible to submit the homeworks.\\nBe aware, however, that there will be deadlines for turning in the final projects. So don't leave everything for the last minute.\",\n",
       "  'section': 'General course-related questions',\n",
       "  'question': 'Course - Can I still join the course after the start date?',\n",
       "  'course': 'data-engineering-zoomcamp'},\n",
       " {'text': 'Yes, we will keep all the materials after the course finishes, so you can follow the course at your own pace after it finishes.\\nYou can also continue looking at the homeworks and continue preparing for the next cohort. I guess you can also start working on your final capstone project.',\n",
       "  'section': 'General course-related questions',\n",
       "  'question': 'Course - Can I follow the course after it finishes?',\n",
       "  'course': 'data-engineering-zoomcamp'},\n",
       " {'text': \"The purpose of this document is to capture frequently asked technical questions\\nThe exact day and hour of the course will be 15th Jan 2024 at 17h00. The course will start with the first  “Office Hours'' live.1\\nSubscribe to course public Google Calendar (it works from Desktop only).\\nRegister before the course starts using this link.\\nJoin the course Telegram channel with announcements.\\nDon’t forget to register in DataTalks.Club's Slack and join the channel.\",\n",
       "  'section': 'General course-related questions',\n",
       "  'question': 'Course - When will the course start?',\n",
       "  'course': 'data-engineering-zoomcamp'},\n",
       " {'text': 'You can start by installing and setting up all the dependencies and requirements:\\nGoogle cloud account\\nGoogle Cloud SDK\\nPython 3 (installed with Anaconda)\\nTerraform\\nGit\\nLook over the prerequisites and syllabus to see if you are comfortable with these subjects.',\n",
       "  'section': 'General course-related questions',\n",
       "  'question': 'Course - What can I do before the course starts?',\n",
       "  'course': 'data-engineering-zoomcamp'}]"
      ]
     },
     "execution_count": 8,
     "metadata": {},
     "output_type": "execute_result"
    }
   ],
   "execution_count": 8
  },
  {
   "metadata": {
    "ExecuteTime": {
     "end_time": "2025-06-17T19:05:30.876178Z",
     "start_time": "2025-06-17T19:05:30.873471Z"
    }
   },
   "cell_type": "code",
   "source": "",
   "id": "1d3c19a3076faa7f",
   "outputs": [],
   "execution_count": 15
  },
  {
   "metadata": {
    "ExecuteTime": {
     "end_time": "2025-06-17T19:05:49.692926Z",
     "start_time": "2025-06-17T19:05:31.680888Z"
    }
   },
   "cell_type": "code",
   "source": [
    "from openai import OpenAI\n",
    "\n",
    "client = OpenAI(\n",
    "  base_url=\"https://openrouter.ai/api/v1\",\n",
    "  api_key=d_key,\n",
    ")\n",
    "\n",
    "completion = client.chat.completions.create(\n",
    "  extra_headers={\n",
    "    \"HTTP-Referer\": \"<YOUR_SITE_URL>\", # Optional. Site URL for rankings on openrouter.ai.\n",
    "    \"X-Title\": \"<YOUR_SITE_NAME>\", # Optional. Site title for rankings on openrouter.ai.\n",
    "  },\n",
    "  extra_body={},\n",
    "  model=\"deepseek/deepseek-r1-0528:free\",\n",
    "  messages=[\n",
    "    {\n",
    "      \"role\": \"user\",\n",
    "      \"content\": \"What is the meaning of life?\"\n",
    "    }\n",
    "  ]\n",
    ")\n",
    "print(completion.choices[0].message.content)"
   ],
   "id": "662ebac240fc77e9",
   "outputs": [
    {
     "name": "stdout",
     "output_type": "stream",
     "text": [
      "The meaning of life is a profound and deeply personal question that has been contemplated by philosophers, theologians, scientists, artists, and individuals throughout history. There is no single \"objective\" answer accepted by everyone, but here are the most common perspectives:\n",
      "\n",
      "### 1. **Philosophical Perspectives**\n",
      "   - **Existentialism (e.g., Sartre, Nietzsche):** Life has no inherent meaning; **you create your own purpose** through actions, choices, and authenticity.\n",
      "   - **Absurdism (Camus):** Human desire for meaning clashes with a silent universe. The \"meaning\" lies in **rebelling against the absurdity** by living fully and passionately.\n",
      "   - **Utilitarianism/Buddhism:** Meaning comes from **reducing suffering** and contributing to the well-being of others (compassion, service).\n",
      "\n",
      "### 2. **Spiritual/Religious Perspectives**\n",
      "   - **Theistic Views (e.g., Christianity, Islam, Hinduism):** Life's purpose is **connection with the divine**, fulfilling a divine plan, spiritual growth, or achieving enlightenment (moksha, nirvana).\n",
      "   - **Non-Theistic Spirituality (e.g., Taoism, Pantheism):** Meaning emerges from **harmony with the universe**, nature, or a universal consciousness.\n",
      "\n",
      "### 3. **Scientific Perspective**\n",
      "   - **Biology/Evolution:** Life's purpose is **survival, reproduction, and propagation of genes**—a biological imperative driving all living beings.\n",
      "   - **Cosmology:** In a vast, indifferent universe, meaning is a **human construct**, not a cosmic feature. Our significance lies in our unique ability to question existence.\n",
      "\n",
      "### 4. **Pragmatic/Humanist View**\n",
      "   - Meaning is found in **connections** (love, family, community), **contribution** (creativity, impact, justice), **growth** (learning, overcoming challenges), and **experiences** (beauty, joy, curiosity). \n",
      "\n",
      "### Your Answer Might Involve:\n",
      "- **Connection:** Deep relationships, empathy, community.\n",
      "- **Purpose:** Goals, passions, creativity, or causes larger than oneself.\n",
      "- **Presence:** Finding joy in simple moments, mindfulness.\n",
      "- **Legacy:** Influencing future generations or making a difference.\n",
      "\n",
      "💡 **Ultimately, the search itself may hold meaning.** As Viktor Frankl wrote:  \n",
      "*\"Life is not primarily a quest for pleasure or power, but a quest for meaning.\"*  \n",
      "The answer is uniquely yours to craft, evolve, and discover **through living intentionally**.\n",
      "\n",
      "What resonates most with *you*? Your journey toward this answer might be the most meaningful part. 🌱\n"
     ]
    }
   ],
   "execution_count": 16
  },
  {
   "metadata": {
    "ExecuteTime": {
     "end_time": "2025-06-17T19:17:00.786677Z",
     "start_time": "2025-06-17T19:16:39.685270Z"
    }
   },
   "cell_type": "code",
   "source": [
    "completion = client.chat.completions.create(\n",
    "  extra_body={},\n",
    "  model=\"deepseek/deepseek-r1-0528:free\",\n",
    "  messages=[\n",
    "    {\n",
    "      \"role\": \"user\",\n",
    "      \"content\": q\n",
    "    }\n",
    "  ]\n",
    ")\n",
    "print(completion.choices[0].message.content)"
   ],
   "id": "d2bd423b99f6c3ff",
   "outputs": [
    {
     "name": "stdout",
     "output_type": "stream",
     "text": [
      "It's definitely possible to enroll in a course after it has started, **but it depends on several factors**. Here's what you need to do:\n",
      "\n",
      "1.  **Contact the Institution Immediately:** Don't wait! Reach out to the **course instructor**, the **department offering the course**, and/or the **registrar's office**. Email is usually best for a quick initial inquiry (check their website for contact details).\n",
      "\n",
      "2.  **Key Factors Influencing Approval:**\n",
      "    *   **Institution Policy:** Some schools have strict drop/add deadlines, others are more flexible. Graduate programs or non-credit courses often have more leniency than undergraduate core classes.\n",
      "    *   **Professor's Discretion:** The instructor has significant say. They'll consider if catching up is feasible.\n",
      "    *   **How Far Into the Course:** Joining in week 2 is much easier than joining in week 8. Explain why you're late (if relevant).\n",
      "    *   **Seat Availability:** Is there still space in the classroom or online platform?\n",
      "    *   **Course Workload & Structure:** How much material have you missed? Are there assignments/grades you can't make up?\n",
      "    *   **Your Ability to Catch Up:** Be prepared to demonstrate your commitment and plan to bridge the gap quickly.\n",
      "\n",
      "3.  **What to Ask/Present When You Contact Them:**\n",
      "    *   Clearly state your request: \"I'm interested in enrolling in [Course Name] [Course Code] that started on [Start Date]. Is it possible to enroll at this stage?\"\n",
      "    *   Briefly explain your situation/reason for late enrollment (e.g., just became aware, schedule change, administrative delay - be honest but concise).\n",
      "    *   **Crucially:** Express your **willingness and plan to catch up**: \"I understand I've missed the start and am fully prepared to review the syllabus, access missed materials ([LMS platform name, if known]), complete any outstanding assignments promptly, and dedicate extra time to get up to speed.\"\n",
      "    *   Ask specifically about missed deadlines, assignments, and accessing materials.\n",
      "    *   Ask if there are specific procedures or forms for late enrollment.\n",
      "\n",
      "4.  **Possible Outcomes:**\n",
      "    *   **Approved:** Great! Get written confirmation (email) and immediately request the syllabus, course schedule, recordings, readings, and assignment details. Start catching up *now*.\n",
      "    *   **Approved Conditionally:** You might get permission to try for a short period (e.g., 1 week) to prove you can catch up, or upon agreeing to specific conditions.\n",
      "    *   **Denied:** If handled administratively (registrar) due to policy, ask about exceptions. If the instructor denies based on feasibility, respect their decision.\n",
      "\n",
      "5.  **Alternatives if Enrolling Isn't Possible:**\n",
      "    *   **Audit the Course:** Ask if you can sit in without receiving credit (may still have fees).\n",
      "    *   **Enroll Next Term/Semester:** The most common solution if late enrollment isn't feasible.\n",
      "    *   **Self-Study:** Request the syllabus and reading list to study independently (won't count for credit).\n",
      "    *   **Find a Similar Course:** Check if there's another section or equivalent course starting soon.\n",
      "\n",
      "**Action Plan:**\n",
      "1.  **Find contact info** (Instructor, Dept, Registrar) - look on the institution's website *now*.\n",
      "2.  **Send a polite & concise email** explaining your request and willingness to catch up.\n",
      "3.  **Follow up** if you don't hear back within 1-2 business days (be persistent but respectful).\n",
      "4.  **If approved, dedicate significant time immediately** to review everything you've missed. Communicate proactively with the instructor about any questions or challenges.\n",
      "\n",
      "**Good luck! The longer you wait to ask, the less likely it becomes. Act today.**\n"
     ]
    }
   ],
   "execution_count": 26
  },
  {
   "metadata": {
    "ExecuteTime": {
     "end_time": "2025-06-17T19:13:57.348491Z",
     "start_time": "2025-06-17T19:13:57.343352Z"
    }
   },
   "cell_type": "code",
   "source": [
    "def search(query):\n",
    "    boost = {'question': 3.0, 'section': 0.5}\n",
    "\n",
    "    results = index.search(\n",
    "        query=query,\n",
    "        filter_dict={'course': 'data-engineering-zoomcamp'},\n",
    "        boost_dict=boost,\n",
    "        num_results=5\n",
    "    )\n",
    "\n",
    "    return results\n"
   ],
   "id": "5250ab887519b36e",
   "outputs": [],
   "execution_count": 18
  },
  {
   "metadata": {
    "ExecuteTime": {
     "end_time": "2025-06-17T19:13:58.546401Z",
     "start_time": "2025-06-17T19:13:58.543342Z"
    }
   },
   "cell_type": "code",
   "source": [
    "def build_prompt(query, search_results):\n",
    "    prompt_template = \"\"\"\n",
    "You're a course teaching assistant. Answer the QUESTION based on the CONTEXT from the FAQ database.\n",
    "Use only the facts from the CONTEXT when answering the QUESTION.\n",
    "\n",
    "QUESTION: {question}\n",
    "\n",
    "CONTEXT:\n",
    "{context}\n",
    "\"\"\".strip()\n",
    "\n",
    "    context = \"\"\n",
    "\n",
    "    for doc in search_results:\n",
    "        context = context + f\"section: {doc['section']}\\nquestion: {doc['question']}\\nanswer: {doc['text']}\\n\\n\"\n",
    "\n",
    "    prompt = prompt_template.format(question=query, context=context).strip()\n",
    "    return prompt"
   ],
   "id": "d5bd32cd2e0c5763",
   "outputs": [],
   "execution_count": 19
  },
  {
   "metadata": {
    "ExecuteTime": {
     "end_time": "2025-06-17T19:17:13.005059Z",
     "start_time": "2025-06-17T19:17:13.002308Z"
    }
   },
   "cell_type": "code",
   "source": [
    "def llm(prompt):\n",
    "    response = client.chat.completions.create(\n",
    "        extra_body={},\n",
    "        model=\"deepseek/deepseek-r1-0528:free\",\n",
    "        messages=[\n",
    "            {\n",
    "                \"role\": \"user\",\n",
    "                \"content\": prompt\n",
    "            }\n",
    "        ]\n",
    "    )\n",
    "\n",
    "    return response.choices[0].message.content"
   ],
   "id": "80e582fe056242bd",
   "outputs": [],
   "execution_count": 27
  },
  {
   "metadata": {
    "ExecuteTime": {
     "end_time": "2025-06-17T19:17:16.766407Z",
     "start_time": "2025-06-17T19:17:16.763850Z"
    }
   },
   "cell_type": "code",
   "source": [
    "query = 'how do I run kafka?'\n",
    "\n",
    "def rag(query):\n",
    "    search_results = search(query)\n",
    "    prompt = build_prompt(query, search_results)\n",
    "    answer = llm(prompt)\n",
    "    return answer"
   ],
   "id": "62258baf2e04117a",
   "outputs": [],
   "execution_count": 28
  },
  {
   "metadata": {
    "ExecuteTime": {
     "end_time": "2025-06-17T19:17:54.856967Z",
     "start_time": "2025-06-17T19:17:17.683081Z"
    }
   },
   "cell_type": "code",
   "source": "rag(query)\n",
   "id": "b2a93637f1d78ebe",
   "outputs": [
    {
     "data": {
      "text/plain": [
       "\"Based solely on the provided FAQ context, here's how to run Kafka components in specific scenarios:\\n\\n1.  **To run a Java Kafka producer/consumer/KStreams application from the terminal:**\\n    *   Navigate to the project directory.\\n    *   Run:\\n        ```bash\\n        java -cp build/libs/<jar_name>-1.0-SNAPSHOT.jar:out src/main/java/org/example/JsonProducer.java\\n        ```\\n    *   (Replace `<jar_name>` with your actual JAR filename).\\n\\n2.  **To run Python Kafka scripts and avoid common issues:**\\n    *   **Resolve `Module “kafka” not found`:** Create and activate a virtual environment:\\n        ```bash\\n        python -m venv env          # Create (run once)\\n        source env/bin/activate      # Activate (Linux/MacOS)\\n        # OR env\\\\Scripts\\\\activate   # Activate (Windows)\\n        pip install -r ../requirements.txt  # Install dependencies\\n        ```\\n        Run your Python files (e.g., `producer.py`) within this activated environment. Remember to activate it each time. Deactivate with `deactivate`.\\n    *   **Resolve `./build.sh: Permission denied`:** Navigate to the directory containing `build.sh` (e.g., `/docker/spark`) and run:\\n        ```bash\\n        chmod +x build.sh\\n        ```\\n    *   **Resolve `ModuleNotFoundError: No module named 'kafka.vendor.six.moves'`:** Install the alternative library:\\n        ```bash\\n        pip install kafka-python-ng\\n        ```\\n\\n3.  **Ensure dependencies for supporting libraries (like dlt for DuckDB):**\\n    ```bash\\n    pip install dlt[duckdb]\\n    pip install duckdb\\n    ```\\n\\n**Important Note:** The context consistently mentions the **requirement to have Docker images up and running** before executing Python Kafka scripts. **This is the core step for running the Kafka infrastructure itself (brokers, Zookeeper).** The methods above are for running *client applications* (producers, consumers, processing code) that connect to a Kafka cluster assumed to be running (likely via Docker as per the context).\""
      ]
     },
     "execution_count": 29,
     "metadata": {},
     "output_type": "execute_result"
    }
   ],
   "execution_count": 29
  },
  {
   "metadata": {
    "ExecuteTime": {
     "end_time": "2025-06-17T19:36:58.214234Z",
     "start_time": "2025-06-17T19:36:58.117884Z"
    }
   },
   "cell_type": "code",
   "source": "from elasticsearch import Elasticsearch",
   "id": "4177f68106ff4fa9",
   "outputs": [],
   "execution_count": 31
  },
  {
   "metadata": {
    "ExecuteTime": {
     "end_time": "2025-06-17T19:37:24.485766Z",
     "start_time": "2025-06-17T19:37:24.482714Z"
    }
   },
   "cell_type": "code",
   "source": [
    "es_client = Elasticsearch('http://localhost:9200')\n",
    "es_client"
   ],
   "id": "d48b182a28e41be0",
   "outputs": [
    {
     "data": {
      "text/plain": [
       "<Elasticsearch(['http://localhost:9200'])>"
      ]
     },
     "execution_count": 32,
     "metadata": {},
     "output_type": "execute_result"
    }
   ],
   "execution_count": 32
  },
  {
   "metadata": {
    "ExecuteTime": {
     "end_time": "2025-06-17T19:56:02.301475Z",
     "start_time": "2025-06-17T19:56:02.208087Z"
    }
   },
   "cell_type": "code",
   "source": [
    "index_settings = {\n",
    "    \"settings\": {\n",
    "        \"number_of_shards\": 1,\n",
    "        \"number_of_replicas\": 0\n",
    "    },\n",
    "    \"mappings\": {\n",
    "        \"properties\": {\n",
    "            \"text\": {\"type\": \"text\"},\n",
    "            \"section\": {\"type\": \"text\"},\n",
    "            \"question\": {\"type\": \"text\"},\n",
    "            \"course\": {\"type\": \"keyword\"}\n",
    "        }\n",
    "    }\n",
    "}\n",
    "\n",
    "index_name = \"course-questions\"\n",
    "\n",
    "es_client.indices.create(index=index_name, body=index_settings)"
   ],
   "id": "600a514923920250",
   "outputs": [
    {
     "data": {
      "text/plain": [
       "ObjectApiResponse({'acknowledged': True, 'shards_acknowledged': True, 'index': 'course-questions'})"
      ]
     },
     "execution_count": 33,
     "metadata": {},
     "output_type": "execute_result"
    }
   ],
   "execution_count": 33
  },
  {
   "metadata": {
    "ExecuteTime": {
     "end_time": "2025-06-17T19:56:05.529578Z",
     "start_time": "2025-06-17T19:56:05.526417Z"
    }
   },
   "cell_type": "code",
   "source": "documents[0]\n",
   "id": "e8442b92fcff6bf0",
   "outputs": [
    {
     "data": {
      "text/plain": [
       "{'text': \"The purpose of this document is to capture frequently asked technical questions\\nThe exact day and hour of the course will be 15th Jan 2024 at 17h00. The course will start with the first  “Office Hours'' live.1\\nSubscribe to course public Google Calendar (it works from Desktop only).\\nRegister before the course starts using this link.\\nJoin the course Telegram channel with announcements.\\nDon’t forget to register in DataTalks.Club's Slack and join the channel.\",\n",
       " 'section': 'General course-related questions',\n",
       " 'question': 'Course - When will the course start?',\n",
       " 'course': 'data-engineering-zoomcamp'}"
      ]
     },
     "execution_count": 34,
     "metadata": {},
     "output_type": "execute_result"
    }
   ],
   "execution_count": 34
  },
  {
   "metadata": {
    "ExecuteTime": {
     "end_time": "2025-06-17T19:56:08.536684Z",
     "start_time": "2025-06-17T19:56:06.994660Z"
    }
   },
   "cell_type": "code",
   "source": [
    "from tqdm.auto import tqdm\n",
    "for doc in tqdm(documents):\n",
    "    es_client.index(index=index_name, document=doc)"
   ],
   "id": "bc8c91e7668fca13",
   "outputs": [
    {
     "name": "stderr",
     "output_type": "stream",
     "text": [
      "/Users/eduacapel/PycharmProjects/LLM-Zoomcamp/.venv/lib/python3.13/site-packages/tqdm/auto.py:21: TqdmWarning: IProgress not found. Please update jupyter and ipywidgets. See https://ipywidgets.readthedocs.io/en/stable/user_install.html\n",
      "  from .autonotebook import tqdm as notebook_tqdm\n",
      "100%|██████████| 948/948 [00:01<00:00, 623.59it/s]\n"
     ]
    }
   ],
   "execution_count": 35
  },
  {
   "metadata": {
    "ExecuteTime": {
     "end_time": "2025-06-17T19:56:09.941588Z",
     "start_time": "2025-06-17T19:56:09.939440Z"
    }
   },
   "cell_type": "code",
   "source": "query = 'I just disovered the course. Can I still join it?'\n",
   "id": "f4a2cbf0c0116a67",
   "outputs": [],
   "execution_count": 36
  },
  {
   "metadata": {},
   "cell_type": "markdown",
   "source": "##Exercice 2",
   "id": "d1b2fea1a26e76cc"
  },
  {
   "metadata": {
    "ExecuteTime": {
     "end_time": "2025-06-17T20:03:33.848330Z",
     "start_time": "2025-06-17T20:03:33.843372Z"
    }
   },
   "cell_type": "code",
   "source": [
    "def elastic_search(query):\n",
    "    search_query = {\n",
    "        \"size\": 5,\n",
    "        \"query\": {\n",
    "            \"bool\": {\n",
    "                \"must\": {\n",
    "                    \"multi_match\": {\n",
    "                        \"query\": query,\n",
    "                        \"fields\": [\"question^4\", \"text\"],\n",
    "                        \"type\": \"best_fields\"\n",
    "                    }\n",
    "                },\n",
    "                \"filter\": {\n",
    "                    \"term\": {\n",
    "                        \"course\": \"machine-learning-zoomcamp\"\n",
    "                    }\n",
    "                }\n",
    "            }\n",
    "        }\n",
    "    }\n",
    "\n",
    "\n",
    "    response = es_client.search(index=index_name, body=search_query)\n",
    "\n",
    "    result_docs = []\n",
    "\n",
    "    for hit in response['hits']['hits']:\n",
    "        print(f\"Score: {hit['_score']:.2f} | Question: {hit['_source'].get('question')}\")\n",
    "        result_docs.append(hit['_source'])\n",
    "\n",
    "    return result_docs\n"
   ],
   "id": "85b288c645dc51e4",
   "outputs": [],
   "execution_count": 44
  },
  {
   "metadata": {
    "ExecuteTime": {
     "end_time": "2025-06-17T20:03:34.881547Z",
     "start_time": "2025-06-17T20:03:34.864723Z"
    }
   },
   "cell_type": "code",
   "source": "elastic_search(\"How do copy a file to a Docker container?\")\n",
   "id": "30db58b07669130f",
   "outputs": [
    {
     "name": "stdout",
     "output_type": "stream",
     "text": [
      "Score: 73.39 | Question: How do I debug a docker container?\n",
      "Score: 66.69 | Question: How do I copy files from my local machine to docker container?\n",
      "Score: 59.81 | Question: How do I copy files from a different folder into docker container’s working directory?\n",
      "Score: 53.62 | Question: How to copy a dataframe without changing the original dataframe?\n",
      "Score: 43.65 | Question: Why do I need to provide a train.py file when I already have the notebook.ipynb file?\n"
     ]
    },
    {
     "data": {
      "text/plain": [
       "[{'text': 'Launch the container image in interactive mode and overriding the entrypoint, so that it starts a bash command.\\ndocker run -it --entrypoint bash <image>\\nIf the container is already running, execute a command in the specific container:\\ndocker ps (find the container-id)\\ndocker exec -it <container-id> bash\\n(Marcos MJD)',\n",
       "  'section': '5. Deploying Machine Learning Models',\n",
       "  'question': 'How do I debug a docker container?',\n",
       "  'course': 'machine-learning-zoomcamp'},\n",
       " {'text': \"You can copy files from your local machine into a Docker container using the docker cp command. Here's how to do it:\\nTo copy a file or directory from your local machine into a running Docker container, you can use the `docker cp command`. The basic syntax is as follows:\\ndocker cp /path/to/local/file_or_directory container_id:/path/in/container\\nHrithik Kumar Advani\",\n",
       "  'section': '5. Deploying Machine Learning Models',\n",
       "  'question': 'How do I copy files from my local machine to docker container?',\n",
       "  'course': 'machine-learning-zoomcamp'},\n",
       " {'text': 'You can copy files from your local machine into a Docker container using the docker cp command. Here\\'s how to do it:\\nIn the Dockerfile, you can provide the folder containing the files that you want to copy over. The basic syntax is as follows:\\nCOPY [\"src/predict.py\", \"models/xgb_model.bin\", \"./\"]\\t\\t\\t\\t\\t\\t\\t\\t\\t\\t\\tGopakumar Gopinathan',\n",
       "  'section': '5. Deploying Machine Learning Models',\n",
       "  'question': 'How do I copy files from a different folder into docker container’s working directory?',\n",
       "  'course': 'machine-learning-zoomcamp'},\n",
       " {'text': 'Copy of a dataframe is made with X_copy = X.copy().\\nThis is called creating a deep copy.  Otherwise it will keep changing the original dataframe if used like this: X_copy = X.\\nAny changes to X_copy will reflect back to X. This is not a real copy, instead it is a “view”.\\n(Memoona Tahira)',\n",
       "  'section': '2. Machine Learning for Regression',\n",
       "  'question': 'How to copy a dataframe without changing the original dataframe?',\n",
       "  'course': 'machine-learning-zoomcamp'},\n",
       " {'text': 'Answer: The train.py file will be used by your peers to review your midterm project. It is for them to cross-check that your training process works on someone else’s system. It should also be included in the environment in conda or with pipenv.\\nOdimegwu David',\n",
       "  'section': 'Miscellaneous',\n",
       "  'question': 'Why do I need to provide a train.py file when I already have the notebook.ipynb file?',\n",
       "  'course': 'machine-learning-zoomcamp'}]"
      ]
     },
     "execution_count": 45,
     "metadata": {},
     "output_type": "execute_result"
    }
   ],
   "execution_count": 45
  },
  {
   "metadata": {
    "ExecuteTime": {
     "end_time": "2025-06-17T19:56:12.806296Z",
     "start_time": "2025-06-17T19:56:12.804019Z"
    }
   },
   "cell_type": "code",
   "source": [
    "def rag(query):\n",
    "    search_results = elastic_search(query)\n",
    "    prompt = build_prompt(query, search_results)\n",
    "    answer = llm(prompt)\n",
    "    return answer"
   ],
   "id": "4d8ace2997b5d1d7",
   "outputs": [],
   "execution_count": 38
  },
  {
   "metadata": {
    "ExecuteTime": {
     "end_time": "2025-06-17T19:56:24.155869Z",
     "start_time": "2025-06-17T19:56:14.589318Z"
    }
   },
   "cell_type": "code",
   "source": "rag(query)\n",
   "id": "6989e268f53728c7",
   "outputs": [
    {
     "data": {
      "text/plain": [
       "'Based on the FAQ context, here\\'s the answer to your question:\\n\\n**Yes, you can still join the course even after the start date.**\\n\\nHere are the key details from the context:\\n1.  **Registration Not Required for Participation:** \"You\\'re still eligible to submit the homeworks\" even if you haven\\'t registered. \"It is not checked against any registered list.\"\\n2.  **Start Learning Immediately:** \"You can also just start learning and submitting homework without registering.\"\\n3.  **Deadlines Apply:** \"Be aware, however, that there will be deadlines for turning in the final projects. So don\\'t leave everything for the last minute.\"\\n4.  **Materials & Support Available:** The course materials remain available after the official end date, and you can get support via the Slack channel (though search the channel and FAQ first).'"
      ]
     },
     "execution_count": 39,
     "metadata": {},
     "output_type": "execute_result"
    }
   ],
   "execution_count": 39
  },
  {
   "metadata": {},
   "cell_type": "markdown",
   "source": "##Exercice 5",
   "id": "3731f9fb7679a3e2"
  },
  {
   "metadata": {
    "ExecuteTime": {
     "end_time": "2025-06-17T20:10:06.614424Z",
     "start_time": "2025-06-17T20:10:06.608371Z"
    }
   },
   "cell_type": "code",
   "source": [
    "records = [\n",
    "    {\n",
    "        \"text\": \"Launch the container image in interactive mode and overriding the entrypoint, so that it starts a bash command.\\ndocker run -it --entrypoint bash <image>\\nIf the container is already running, execute a command in the specific container:\\ndocker ps (find the container-id)\\ndocker exec -it <container-id> bash\\n(Marcos MJD)\",\n",
    "        \"section\": \"5. Deploying Machine Learning Models\",\n",
    "        \"question\": \"How do I debug a docker container?\",\n",
    "        \"course\": \"machine-learning-zoomcamp\"\n",
    "    },\n",
    "    {\n",
    "        \"text\": \"You can copy files from your local machine into a Docker container using the docker cp command. Here's how to do it:\\nTo copy a file or directory from your local machine into a running Docker container, you can use the `docker cp command`. The basic syntax is as follows:\\ndocker cp /path/to/local/file_or_directory container_id:/path/in/container\\nHrithik Kumar Advani\",\n",
    "        \"section\": \"5. Deploying Machine Learning Models\",\n",
    "        \"question\": \"How do I copy files from my local machine to docker container?\",\n",
    "        \"course\": \"machine-learning-zoomcamp\"\n",
    "    },\n",
    "    {\n",
    "        \"text\": \"You can copy files from your local machine into a Docker container using the docker cp command. Here's how to do it:\\nIn the Dockerfile, you can provide the folder containing the files that you want to copy over. The basic syntax is as follows:\\nCOPY [\\\"src/predict.py\\\", \\\"models/xgb_model.bin\\\", \\\"./\\\"]\\t\\t\\t\\t\\t\\t\\t\\t\\t\\t\\tGopakumar Gopinathan\",\n",
    "        \"section\": \"5. Deploying Machine Learning Models\",\n",
    "        \"question\": \"How do I copy files from a different folder into docker container’s working directory?\",\n",
    "        \"course\": \"machine-learning-zoomcamp\"\n",
    "    },\n",
    "    {\n",
    "        \"text\": \"Copy of a dataframe is made with X_copy = X.copy().\\nThis is called creating a deep copy.  Otherwise it will keep changing the original dataframe if used like this: X_copy = X.\\nAny changes to X_copy will reflect back to X. This is not a real copy, instead it is a “view”.\\n(Memoona Tahira)\",\n",
    "        \"section\": \"2. Machine Learning for Regression\",\n",
    "        \"question\": \"How to copy a dataframe without changing the original dataframe?\",\n",
    "        \"course\": \"machine-learning-zoomcamp\"\n",
    "    },\n",
    "    {\n",
    "        \"text\": \"Answer: The train.py file will be used by your peers to review your midterm project. It is for them to cross-check that your training process works on someone else’s system. It should also be included in the environment in conda or with pipenv.\\nOdimegwu David\",\n",
    "        \"section\": \"Miscellaneous\",\n",
    "        \"question\": \"Why do I need to provide a train.py file when I already have the notebook.ipynb file?\",\n",
    "        \"course\": \"machine-learning-zoomcamp\"\n",
    "    }\n",
    "]\n",
    "\n",
    "context_entries = []\n",
    "for r in records:\n",
    "    context_entries.append(f\"Q: {r['question']}\\nA: {r['text']}\")\n",
    "context = \"\\n\\n\".join(context_entries)\n",
    "\n",
    "question = \"How do copy a file to a Docker container?\"\n",
    "\n",
    "prompt = f\"\"\"\n",
    "You're a course teaching assistant. Answer the QUESTION based on the CONTEXT from the FAQ database.\n",
    "Use only the facts from the CONTEXT when answering the QUESTION.\n",
    "\n",
    "QUESTION: {question}\n",
    "\n",
    "CONTEXT:\n",
    "{context}\n",
    "\"\"\".strip()\n",
    "\n",
    "print(len(prompt))\n"
   ],
   "id": "f28c24f7dcca6019",
   "outputs": [
    {
     "name": "stdout",
     "output_type": "stream",
     "text": [
      "2159\n"
     ]
    }
   ],
   "execution_count": 48
  },
  {
   "metadata": {
    "ExecuteTime": {
     "end_time": "2025-06-17T20:05:49.598063Z",
     "start_time": "2025-06-17T20:05:49.564291Z"
    }
   },
   "cell_type": "code",
   "source": [
    "context_template = \"\"\"\n",
    "Q: {question}\n",
    "A: {text}\n",
    "\"\"\".strip()\n",
    "\n",
    "prompt_template = \"\"\"\n",
    "You're a course teaching assistant. Answer the QUESTION based on the CONTEXT from the FAQ database.\n",
    "Use only the facts from the CONTEXT when answering the QUESTION.\n",
    "\n",
    "QUESTION: {question}\n",
    "\n",
    "CONTEXT:\n",
    "{context}\n",
    "\"\"\".strip()\n",
    "\n",
    "# Sample query\n",
    "query = \"How do copy a file to a Docker container?\"\n",
    "\n",
    "# Assuming `hits` contains the top 5 results from Elasticsearch\n",
    "hits = elastic_search(query)\n",
    "\n",
    "# Build the context string\n",
    "context = \"\\n\\n\".join([\n",
    "    context_template.format(question=hit[\"question\"], text=hit[\"text\"])\n",
    "    for hit in hits\n",
    "])\n",
    "\n",
    "# Build the final prompt\n",
    "prompt = prompt_template.format(question=query, context=context)\n",
    "\n",
    "# Output the length\n",
    "print(len(prompt))\n"
   ],
   "id": "32a981cecd919023",
   "outputs": [
    {
     "name": "stdout",
     "output_type": "stream",
     "text": [
      "Score: 73.39 | Question: How do I debug a docker container?\n",
      "Score: 66.69 | Question: How do I copy files from my local machine to docker container?\n",
      "Score: 59.81 | Question: How do I copy files from a different folder into docker container’s working directory?\n",
      "Score: 53.62 | Question: How to copy a dataframe without changing the original dataframe?\n",
      "Score: 43.65 | Question: Why do I need to provide a train.py file when I already have the notebook.ipynb file?\n",
      "2159\n"
     ]
    }
   ],
   "execution_count": 46
  },
  {
   "metadata": {
    "ExecuteTime": {
     "end_time": "2025-06-17T20:13:07.085320Z",
     "start_time": "2025-06-17T20:13:07.079685Z"
    }
   },
   "cell_type": "code",
   "source": [
    "import tiktoken\n",
    "\n",
    "encoding = tiktoken.get_encoding(\"cl100k_base\")\n",
    "num_tokens = len(encoding.encode(prompt))\n",
    "print(\"Token count:\", num_tokens)"
   ],
   "id": "e3ea5d2f0ceb2741",
   "outputs": [
    {
     "name": "stdout",
     "output_type": "stream",
     "text": [
      "Token count: 493\n"
     ]
    }
   ],
   "execution_count": 50
  }
 ],
 "metadata": {
  "kernelspec": {
   "display_name": "Python 3",
   "language": "python",
   "name": "python3"
  },
  "language_info": {
   "codemirror_mode": {
    "name": "ipython",
    "version": 2
   },
   "file_extension": ".py",
   "mimetype": "text/x-python",
   "name": "python",
   "nbconvert_exporter": "python",
   "pygments_lexer": "ipython2",
   "version": "2.7.6"
  }
 },
 "nbformat": 4,
 "nbformat_minor": 5
}
